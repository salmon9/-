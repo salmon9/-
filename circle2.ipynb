{
  "nbformat": 4,
  "nbformat_minor": 0,
  "metadata": {
    "colab": {
      "name": "circle2.ipynb ",
      "provenance": [],
      "collapsed_sections": [],
      "authorship_tag": "ABX9TyNQpSYn4vE5TtH1og8sU1U/",
      "include_colab_link": true
    },
    "kernelspec": {
      "name": "python3",
      "display_name": "Python 3"
    },
    "language_info": {
      "name": "python"
    }
  },
  "cells": [
    {
      "cell_type": "markdown",
      "metadata": {
        "id": "view-in-github",
        "colab_type": "text"
      },
      "source": [
        "<a href=\"https://colab.research.google.com/github/salmon9/python/blob/main/circle2.ipynb\" target=\"_parent\"><img src=\"https://colab.research.google.com/assets/colab-badge.svg\" alt=\"Open In Colab\"/></a>"
      ]
    },
    {
      "cell_type": "code",
      "metadata": {
        "id": "Y7qh_pDRt4DK"
      },
      "source": [
        "import numpy as np\n",
        "import torch\n",
        "import torch.nn as nn\n",
        "import torch.nn.functional as F\n",
        "import torch.utils.data\n",
        "from matplotlib import pyplot as plt"
      ],
      "execution_count": 17,
      "outputs": []
    },
    {
      "cell_type": "code",
      "metadata": {
        "id": "ZA3SwVOSt8A6"
      },
      "source": [
        "class Model (nn.Module):\n",
        "  def __init__(self):\n",
        "    super(Model, self).__init__()\n",
        "    self.l1 = nn.Linear(1,20)\n",
        "    self.l2 = nn.Linear(20,40)\n",
        "    self.l3 = nn.Linear(40,1)\n",
        "\n",
        "  def forward(self,x):\n",
        "    x = F.relu(self.l1(x))\n",
        "    x = F.relu(self.l2(x))\n",
        "    x = self.l3(x)\n",
        "    return x "
      ],
      "execution_count": 18,
      "outputs": []
    },
    {
      "cell_type": "code",
      "metadata": {
        "id": "zYtBtf4BvHXJ"
      },
      "source": [
        "def get_dataset(n):\n",
        "    p = np.random.randint(0,360,n) #0〜360のランダム値 媒介変数\n",
        "    x = np.cos(p)\n",
        "    y = np.sin(p) \n",
        "    p = p.reshape(n,1) #(n, 1)の配列にする必要がある\n",
        "    x = x.reshape(n,1) \n",
        "    y = y.reshape(n,1) \n",
        "    p = torch.FloatTensor(p) # floatでないといけない\n",
        "    x = torch.FloatTensor(x) \n",
        "    y = torch.FloatTensor(y) \n",
        "    return torch.utils.data.TensorDataset(p, x, y)"
      ],
      "execution_count": 29,
      "outputs": []
    },
    {
      "cell_type": "code",
      "metadata": {
        "id": "5oRSQC82vLUR"
      },
      "source": [
        "data_number = 100000 #準備するデータの数\n",
        "batch_size  = 1000 # 1つのミニバッチのデータの数\n",
        "data_loader = torch.utils.data.DataLoader(get_dataset(data_number), batch_size=batch_size)"
      ],
      "execution_count": 30,
      "outputs": []
    },
    {
      "cell_type": "code",
      "metadata": {
        "id": "g39lp_K9vM3Z"
      },
      "source": [
        "model = Model()\n",
        "criterion = nn.MSELoss()\n",
        "learning_rate = 1e-2\n",
        "optimizer = torch.optim.Adam(model.parameters(), lr=learning_rate)"
      ],
      "execution_count": 31,
      "outputs": []
    },
    {
      "cell_type": "code",
      "metadata": {
        "colab": {
          "base_uri": "https://localhost:8080/",
          "height": 241
        },
        "id": "iOdMpnuLvPEL",
        "outputId": "d59a4eea-9c72-4a36-d606-a3205c1ad382"
      },
      "source": [
        "loss_log = [] # 学習状況のプロット用\n",
        "epoch = 100\n",
        "for t in range(epoch):\n",
        "    for xt, yt in data_loader: # 1ミニバッチずつ計算\n",
        "        optimizer.zero_grad() \n",
        "        y_model = model(xt)\n",
        "        loss = criterion(y_model, yt)\n",
        "        loss.backward()\n",
        "        optimizer.step()\n",
        "    print(t, loss.item())\n",
        "    loss_log.append(loss.item())"
      ],
      "execution_count": 32,
      "outputs": [
        {
          "output_type": "error",
          "ename": "ValueError",
          "evalue": "ignored",
          "traceback": [
            "\u001b[0;31m---------------------------------------------------------------------------\u001b[0m",
            "\u001b[0;31mValueError\u001b[0m                                Traceback (most recent call last)",
            "\u001b[0;32m<ipython-input-32-9c873730c8e1>\u001b[0m in \u001b[0;36m<module>\u001b[0;34m()\u001b[0m\n\u001b[1;32m      2\u001b[0m \u001b[0mepoch\u001b[0m \u001b[0;34m=\u001b[0m \u001b[0;36m100\u001b[0m\u001b[0;34m\u001b[0m\u001b[0;34m\u001b[0m\u001b[0m\n\u001b[1;32m      3\u001b[0m \u001b[0;32mfor\u001b[0m \u001b[0mt\u001b[0m \u001b[0;32min\u001b[0m \u001b[0mrange\u001b[0m\u001b[0;34m(\u001b[0m\u001b[0mepoch\u001b[0m\u001b[0;34m)\u001b[0m\u001b[0;34m:\u001b[0m\u001b[0;34m\u001b[0m\u001b[0;34m\u001b[0m\u001b[0m\n\u001b[0;32m----> 4\u001b[0;31m     \u001b[0;32mfor\u001b[0m \u001b[0mxt\u001b[0m\u001b[0;34m,\u001b[0m \u001b[0myt\u001b[0m \u001b[0;32min\u001b[0m \u001b[0mdata_loader\u001b[0m\u001b[0;34m:\u001b[0m \u001b[0;31m# 1ミニバッチずつ計算\u001b[0m\u001b[0;34m\u001b[0m\u001b[0;34m\u001b[0m\u001b[0m\n\u001b[0m\u001b[1;32m      5\u001b[0m         \u001b[0moptimizer\u001b[0m\u001b[0;34m.\u001b[0m\u001b[0mzero_grad\u001b[0m\u001b[0;34m(\u001b[0m\u001b[0;34m)\u001b[0m\u001b[0;34m\u001b[0m\u001b[0;34m\u001b[0m\u001b[0m\n\u001b[1;32m      6\u001b[0m         \u001b[0my_model\u001b[0m \u001b[0;34m=\u001b[0m \u001b[0mmodel\u001b[0m\u001b[0;34m(\u001b[0m\u001b[0mxt\u001b[0m\u001b[0;34m)\u001b[0m\u001b[0;34m\u001b[0m\u001b[0;34m\u001b[0m\u001b[0m\n",
            "\u001b[0;31mValueError\u001b[0m: too many values to unpack (expected 2)"
          ]
        }
      ]
    },
    {
      "cell_type": "code",
      "metadata": {
        "id": "iWhju8z3vRgm"
      },
      "source": [
        "##学習したモデルと関数を比較する\n",
        "\n",
        "fig = plt.figure()\n",
        "ax = fig.add_subplot(111)\n",
        "ax.set_aspect('equal')\n",
        "\n",
        "x = numpy.linspace(0,360,361)\n",
        "\n",
        "plt.plot(np.cos(x),np.sin(x), label=\"circle\")\n",
        "x_model = torch.FloatTensor(x.reshape(100,1))\n",
        "y_model = model(x_model)\n",
        "y = y_model.detach().numpy().reshape(1,100)[0] # プロット用に変換、detach()が必要\n",
        "\n",
        "plt.plot(x, y, label='model')\n",
        "plt.legend()\n",
        "plt.xlabel('x')\n",
        "plt.ylabel('y')\n",
        "plt.show()"
      ],
      "execution_count": null,
      "outputs": []
    },
    {
      "cell_type": "code",
      "metadata": {
        "id": "qTwRDxfwvUfv"
      },
      "source": [
        ""
      ],
      "execution_count": null,
      "outputs": []
    }
  ]
}