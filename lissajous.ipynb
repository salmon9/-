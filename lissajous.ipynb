{
  "nbformat": 4,
  "nbformat_minor": 0,
  "metadata": {
    "colab": {
      "name": "lissajous.ipynb",
      "provenance": [],
      "collapsed_sections": [],
      "authorship_tag": "ABX9TyNE+BDB3wUOjrLCcYhthyqy",
      "include_colab_link": true
    },
    "kernelspec": {
      "name": "python3",
      "display_name": "Python 3"
    },
    "language_info": {
      "name": "python"
    }
  },
  "cells": [
    {
      "cell_type": "markdown",
      "metadata": {
        "id": "view-in-github",
        "colab_type": "text"
      },
      "source": [
        "<a href=\"https://colab.research.google.com/github/salmon9/python/blob/main/lissajous.ipynb\" target=\"_parent\"><img src=\"https://colab.research.google.com/assets/colab-badge.svg\" alt=\"Open In Colab\"/></a>"
      ]
    },
    {
      "cell_type": "code",
      "metadata": {
        "id": "Y7qh_pDRt4DK"
      },
      "source": [
        "import numpy as np\n",
        "import torch\n",
        "import torch.nn as nn\n",
        "import torch.nn.functional as F\n",
        "import torch.utils.data\n",
        "from matplotlib import pyplot as plt"
      ],
      "execution_count": 4,
      "outputs": []
    },
    {
      "cell_type": "code",
      "metadata": {
        "id": "ZA3SwVOSt8A6"
      },
      "source": [
        "class Model (nn.Module):\n",
        "  def __init__(self):\n",
        "    super(Model, self).__init__()\n",
        "    self.l1 = nn.Linear(1,20)\n",
        "    self.l2 = nn.Linear(20,40)\n",
        "    self.l3 = nn.Linear(40,1)\n",
        "\n",
        "  def forward(self,x):\n",
        "    x = F.relu(self.l1(x))\n",
        "    x = F.relu(self.l2(x))\n",
        "    x = self.l3(x)\n",
        "    return x "
      ],
      "execution_count": 5,
      "outputs": []
    },
    {
      "cell_type": "code",
      "metadata": {
        "id": "zYtBtf4BvHXJ"
      },
      "source": [
        "def get_dataset(n):\n",
        "    parameter = np.radians(np.random.randint(0,360,n)) #0〜360のランダム値 p:媒介変数\n",
        "    x = np.sin(parameter) + np.random.normal(scale=0.01)\n",
        "    y = 2*np.sin(2*parameter) + np.random.normal(scale=0.01)\n",
        "\n",
        "    dataset = [x,y]\n",
        "    dataset = torch.FloatTensor(dataset)\n",
        "\n",
        "    return torch.utils.data.TensorDataset(dataset)"
      ],
      "execution_count": 6,
      "outputs": []
    },
    {
      "cell_type": "code",
      "metadata": {
        "id": "5oRSQC82vLUR"
      },
      "source": [
        "data_number = 10000 #準備するデータの数\n",
        "batch_size  = 1000 # 1つのミニバッチのデータの数\n",
        "data_loader = torch.utils.data.DataLoader(get_dataset(data_number), batch_size=batch_size)"
      ],
      "execution_count": 7,
      "outputs": []
    },
    {
      "cell_type": "code",
      "metadata": {
        "id": "g39lp_K9vM3Z"
      },
      "source": [
        "model = Model()\n",
        "criterion = nn.MSELoss()\n",
        "learning_rate = 1e-2\n",
        "optimizer = torch.optim.Adam(model.parameters(), lr=learning_rate)"
      ],
      "execution_count": 8,
      "outputs": []
    },
    {
      "cell_type": "code",
      "metadata": {
        "colab": {
          "base_uri": "https://localhost:8080/"
        },
        "id": "iOdMpnuLvPEL",
        "outputId": "52a2812c-19ad-4700-cd04-32c2644430cd"
      },
      "source": [
        "loss_log = [] # 学習状況のプロット用\n",
        "epoch = 100\n",
        "for t in range(epoch):\n",
        "    for input in data_loader: # 1ミニバッチずつ計算\n",
        "        optimizer.zero_grad() \n",
        "        \n",
        "        output = model(input)\n",
        "\n",
        "        loss = criterion(output,input)\n",
        "\n",
        "        loss.backward()\n",
        "        \n",
        "        optimizer.step()\n",
        "         \n",
        "\n",
        "    print(t, loss.item())\n",
        "    loss_log.append(loss.item())"
      ],
      "execution_count": 9,
      "outputs": [
        {
          "output_type": "stream",
          "text": [
            "0 0.3976731300354004\n",
            "1 0.37426137924194336\n",
            "2 0.3546639680862427\n",
            "3 0.3275628983974457\n",
            "4 0.29839789867401123\n",
            "5 0.25991228222846985\n",
            "6 0.19950585067272186\n",
            "7 0.1400364339351654\n",
            "8 0.0897602066397667\n",
            "9 0.06434659659862518\n",
            "10 0.059339750558137894\n",
            "11 0.049958523362874985\n",
            "12 0.0467204824090004\n",
            "13 0.04334159195423126\n",
            "14 0.03936244919896126\n",
            "15 0.03627585247159004\n",
            "16 0.03268442675471306\n",
            "17 0.029602188616991043\n",
            "18 0.027225425466895103\n",
            "19 0.024792896583676338\n",
            "20 0.022186608985066414\n",
            "21 0.0201642457395792\n",
            "22 0.019450802356004715\n",
            "23 0.02056737430393696\n",
            "24 0.02087641879916191\n",
            "25 0.020618662238121033\n",
            "26 0.017610372975468636\n",
            "27 0.012741190381348133\n",
            "28 0.011303475126624107\n",
            "29 0.01135551929473877\n",
            "30 0.008927710354328156\n",
            "31 0.007983356714248657\n",
            "32 0.009357440285384655\n",
            "33 0.007172821555286646\n",
            "34 0.006359002087265253\n",
            "35 0.008323912508785725\n",
            "36 0.005609429441392422\n",
            "37 0.008191763423383236\n",
            "38 0.004782222677022219\n",
            "39 0.008242442272603512\n",
            "40 0.004357208497822285\n",
            "41 0.004080377519130707\n",
            "42 0.005888353567570448\n",
            "43 0.0036470857448875904\n",
            "44 0.0064380113035440445\n",
            "45 0.0035608625039458275\n",
            "46 0.005828510504215956\n",
            "47 0.002974720438942313\n",
            "48 0.006094940938055515\n",
            "49 0.002776667010039091\n",
            "50 0.004511229228228331\n",
            "51 0.002375897951424122\n",
            "52 0.005454947240650654\n",
            "53 0.0027423459105193615\n",
            "54 0.004096634220331907\n",
            "55 0.0021170887630432844\n",
            "56 0.004070704337209463\n",
            "57 0.001974110957235098\n",
            "58 0.002976903924718499\n",
            "59 0.0017431285232305527\n",
            "60 0.002432034118101001\n",
            "61 0.0024713268503546715\n",
            "62 0.0017476167995482683\n",
            "63 0.00543949892744422\n",
            "64 0.0023304990027099848\n",
            "65 0.0034782621078193188\n",
            "66 0.0015801711706444621\n",
            "67 0.00277944328263402\n",
            "68 0.0014616743428632617\n",
            "69 0.0015757468063384295\n",
            "70 0.003135343547910452\n",
            "71 0.0012658584164455533\n",
            "72 0.004030765499919653\n",
            "73 0.0013801647583022714\n",
            "74 0.002222547074779868\n",
            "75 0.0011875971686095\n",
            "76 0.0019318301929160953\n",
            "77 0.002850230084732175\n",
            "78 0.0011439297813922167\n",
            "79 0.00386748812161386\n",
            "80 0.0011491385521367192\n",
            "81 0.0019255911465734243\n",
            "82 0.0011657756986096501\n",
            "83 0.0014595909742638469\n",
            "84 0.003741281107068062\n",
            "85 0.0011588589986786246\n",
            "86 0.0026201007422059774\n",
            "87 0.0011036209762096405\n",
            "88 0.0011516001541167498\n",
            "89 0.0032459173817187548\n",
            "90 0.0009444954339414835\n",
            "91 0.0023589543998241425\n",
            "92 0.0013172903563827276\n",
            "93 0.0009368581231683493\n",
            "94 0.003135756589472294\n",
            "95 0.0008589763310737908\n",
            "96 0.001797050004824996\n",
            "97 0.002108901273459196\n",
            "98 0.0008249325328506529\n",
            "99 0.0027426283340901136\n"
          ],
          "name": "stdout"
        }
      ]
    },
    {
      "cell_type": "code",
      "metadata": {
        "colab": {
          "base_uri": "https://localhost:8080/",
          "height": 279
        },
        "id": "iWhju8z3vRgm",
        "outputId": "8f7564f0-ac92-49ed-b218-d2f9a2e8a944"
      },
      "source": [
        "##学習したモデルと関数を比較する\n",
        "\n",
        "fig = plt.figure()\n",
        "ax = fig.add_subplot(111)\n",
        "ax.set_aspect('equal')\n",
        "\n",
        "p = np.radians(np.linspace(0,360,100))\n",
        "\n",
        "plt.plot(np.sin(p),np.sin(2*p), label=\"circle\")\n",
        "\n",
        "p_model = torch.FloatTensor(p.reshape(100,1))\n",
        "x_model = model(p_model)\n",
        "y_model = model(p_model)\n",
        "\n",
        "x = x_model.detach().numpy().reshape(1,100)[0]\n",
        "y = y_model.detach().numpy().reshape(1,100)[0] # プロット用に変換、detach()が必要\n",
        "\n",
        "plt.plot(x, y, label='model')\n",
        "plt.legend()\n",
        "plt.xlabel('x')\n",
        "plt.ylabel('y')\n",
        "plt.show()"
      ],
      "execution_count": 11,
      "outputs": [
        {
          "output_type": "display_data",
          "data": {
            "image/png": "[encoded data removed]",
            "text/plain": [
              "<Figure size 432x288 with 1 Axes>"
            ]
          },
          "metadata": {
            "tags": [],
            "needs_background": "light"
          }
        }
      ]
    },
    {
      "cell_type": "code",
      "metadata": {
        "id": "qTwRDxfwvUfv"
      },
      "source": [
        ""
      ],
      "execution_count": null,
      "outputs": []
    }
  ]
}