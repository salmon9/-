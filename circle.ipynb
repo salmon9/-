{
  "nbformat": 4,
  "nbformat_minor": 0,
  "metadata": {
    "colab": {
      "name": "circle.ipynb",
      "provenance": [],
      "collapsed_sections": [],
      "authorship_tag": "ABX9TyOvR/8iF5yRqDw1YEphTnE2",
      "include_colab_link": true
    },
    "kernelspec": {
      "name": "python3",
      "display_name": "Python 3"
    },
    "language_info": {
      "name": "python"
    }
  },
  "cells": [
    {
      "cell_type": "markdown",
      "metadata": {
        "id": "view-in-github",
        "colab_type": "text"
      },
      "source": [
        "<a href=\"https://colab.research.google.com/github/salmon9/python/blob/main/circle.ipynb\" target=\"_parent\"><img src=\"https://colab.research.google.com/assets/colab-badge.svg\" alt=\"Open In Colab\"/></a>"
      ]
    },
    {
      "cell_type": "code",
      "metadata": {
        "id": "Y7qh_pDRt4DK"
      },
      "source": [
        "import numpy as np\n",
        "import torch\n",
        "import torch.nn as nn\n",
        "import torch.nn.functional as F\n",
        "import torch.utils.data\n",
        "from matplotlib import pyplot as plt"
      ],
      "execution_count": 26,
      "outputs": []
    },
    {
      "cell_type": "code",
      "metadata": {
        "id": "ZA3SwVOSt8A6"
      },
      "source": [
        "class Model (nn.Module):\n",
        "  def __init__(self):\n",
        "    super(Model, self).__init__()\n",
        "    self.l1 = nn.Linear(1,20)\n",
        "    self.l2 = nn.Linear(20,40)\n",
        "    self.l3 = nn.Linear(40,1)\n",
        "\n",
        "  def forward(self,x):\n",
        "    x = F.relu(self.l1(x))\n",
        "    x = F.relu(self.l2(x))\n",
        "    x = self.l3(x)\n",
        "    return x "
      ],
      "execution_count": 27,
      "outputs": []
    },
    {
      "cell_type": "code",
      "metadata": {
        "id": "zYtBtf4BvHXJ"
      },
      "source": [
        "def get_dataset(n):\n",
        "    x1 = -(np.random.random(n)) \n",
        "    x2 = np.random.random(n)\n",
        "    x = x1 + x2\n",
        "    y = np.sqrt(1-x*x) #ここを変える\n",
        "    x = x.reshape(n, 1) #(n, 1)の配列にする\n",
        "    y = y.reshape(n, 1) #(n, 1)の配列にする\n",
        "    x = torch.FloatTensor(x) # floatに変える\n",
        "    y = torch.FloatTensor(y) # floatに変える\n",
        "    return torch.utils.data.TensorDataset(x, y)"
      ],
      "execution_count": 28,
      "outputs": []
    },
    {
      "cell_type": "code",
      "metadata": {
        "id": "5oRSQC82vLUR"
      },
      "source": [
        "data_number = 100000 #データ数\n",
        "batch_size  = 1000 # 1つのミニバッチのデータ数\n",
        "data_loader = torch.utils.data.DataLoader(get_dataset(data_number), batch_size=batch_size)"
      ],
      "execution_count": 29,
      "outputs": []
    },
    {
      "cell_type": "code",
      "metadata": {
        "id": "g39lp_K9vM3Z"
      },
      "source": [
        "model = Model()\n",
        "criterion = nn.MSELoss()\n",
        "learning_rate = 1e-2\n",
        "optimizer = torch.optim.Adam(model.parameters(), lr=learning_rate)"
      ],
      "execution_count": 30,
      "outputs": []
    },
    {
      "cell_type": "code",
      "metadata": {
        "colab": {
          "base_uri": "https://localhost:8080/"
        },
        "id": "iOdMpnuLvPEL",
        "outputId": "f4deb012-6abd-420a-ff1a-28765c90ee80"
      },
      "source": [
        "loss_log = [] \n",
        "epoch = 100\n",
        "for t in range(epoch):\n",
        "    for xt, yt in data_loader: \n",
        "        optimizer.zero_grad() \n",
        "        y_model = model(xt)\n",
        "        loss = criterion(y_model, yt)\n",
        "        loss.backward()\n",
        "        optimizer.step()\n",
        "    print(t, loss.item())\n",
        "    loss_log.append(loss.item())"
      ],
      "execution_count": 31,
      "outputs": [
        {
          "output_type": "stream",
          "text": [
            "0 0.0014697227161377668\n",
            "1 0.0007220956613309681\n",
            "2 0.0005065658478997648\n",
            "3 0.000391956273233518\n",
            "4 0.0002947714820038527\n",
            "5 0.0002197956491727382\n",
            "6 0.00018089737568516284\n",
            "7 0.00015978910960257053\n",
            "8 0.00014552677748724818\n",
            "9 0.00012818661343771964\n",
            "10 0.00010656187077984214\n",
            "11 9.107595542445779e-05\n",
            "12 8.294767030747607e-05\n",
            "13 7.147499854909256e-05\n",
            "14 6.716039933962747e-05\n",
            "15 6.944731285329908e-05\n",
            "16 5.299236363498494e-05\n",
            "17 4.7409524995600805e-05\n",
            "18 4.408890163176693e-05\n",
            "19 4.3100808397866786e-05\n",
            "20 4.6556986490031704e-05\n",
            "21 4.536909546004608e-05\n",
            "22 4.235115920891985e-05\n",
            "23 4.035517849843018e-05\n",
            "24 4.363211337476969e-05\n",
            "25 4.2947609472321346e-05\n",
            "26 4.585534043144435e-05\n",
            "27 2.8113250664318912e-05\n",
            "28 3.821136851911433e-05\n",
            "29 4.424077269504778e-05\n",
            "30 3.0052227884880267e-05\n",
            "31 5.096501263324171e-05\n",
            "32 5.332196087692864e-05\n",
            "33 2.6931076718028635e-05\n",
            "34 5.362918454920873e-05\n",
            "35 3.389143603271805e-05\n",
            "36 3.4942546335514635e-05\n",
            "37 3.562851998140104e-05\n",
            "38 3.6703502701129764e-05\n",
            "39 3.49560214090161e-05\n",
            "40 3.962926348322071e-05\n",
            "41 3.501625906210393e-05\n",
            "42 3.189441849826835e-05\n",
            "43 2.868571573344525e-05\n",
            "44 2.6754218197311275e-05\n",
            "45 2.4541934180888347e-05\n",
            "46 2.4433800717815757e-05\n",
            "47 2.3562784917885438e-05\n",
            "48 2.3347502065007575e-05\n",
            "49 2.333942029508762e-05\n",
            "50 2.3374337615678087e-05\n",
            "51 2.278280044265557e-05\n",
            "52 2.271189441671595e-05\n",
            "53 2.270286131533794e-05\n",
            "54 2.2925451048649848e-05\n",
            "55 2.356565892114304e-05\n",
            "56 2.413700167380739e-05\n",
            "57 2.3595739548909478e-05\n",
            "58 2.3899152438389137e-05\n",
            "59 2.6391566279926337e-05\n",
            "60 3.3542324672453105e-05\n",
            "61 4.7269186325138435e-05\n",
            "62 9.18009172892198e-05\n",
            "63 0.0001521590311313048\n",
            "64 0.00017041046521626413\n",
            "65 3.444654430495575e-05\n",
            "66 8.71681040734984e-05\n",
            "67 3.526710133883171e-05\n",
            "68 5.4895201174076647e-05\n",
            "69 4.3046569771831855e-05\n",
            "70 5.677098670275882e-05\n",
            "71 3.75052732124459e-05\n",
            "72 2.2586518753087148e-05\n",
            "73 3.953036866732873e-05\n",
            "74 2.4766814021859318e-05\n",
            "75 4.521775190369226e-05\n",
            "76 7.525186083512381e-05\n",
            "77 8.59931533341296e-05\n",
            "78 9.608986147213727e-05\n",
            "79 0.00010712022776715457\n",
            "80 0.00011049591557821259\n",
            "81 0.00011168747005285695\n",
            "82 0.00011210949014639482\n",
            "83 0.00011968018225161359\n",
            "84 0.00010765692422864959\n",
            "85 0.00012305707787163556\n",
            "86 9.775035869097337e-05\n",
            "87 0.00010730673966463655\n",
            "88 0.00010416664008516818\n",
            "89 8.16536121419631e-05\n",
            "90 7.124131661839783e-05\n",
            "91 2.8623087928281166e-05\n",
            "92 3.731363540282473e-05\n",
            "93 4.77330140711274e-05\n",
            "94 1.5162883755692746e-05\n",
            "95 2.591323027445469e-05\n",
            "96 4.098833233001642e-05\n",
            "97 4.2859508539550006e-05\n",
            "98 1.3177173968870193e-05\n",
            "99 1.5976089343894273e-05\n"
          ],
          "name": "stdout"
        }
      ]
    },
    {
      "cell_type": "code",
      "metadata": {
        "colab": {
          "base_uri": "https://localhost:8080/",
          "height": 229
        },
        "id": "iWhju8z3vRgm",
        "outputId": "af1346d2-1a45-4a27-863f-fdd862bcd3c3"
      },
      "source": [
        "##学習したモデルと関数を比較する\n",
        "\n",
        "fig = plt.figure()\n",
        "ax = fig.add_subplot(111)\n",
        "ax.set_aspect('equal')\n",
        "\n",
        "x = np.linspace(-1, 1, 100)\n",
        "plt.plot(x, np.sqrt(1-x*x), label=\"circle\")\n",
        "x_model = torch.FloatTensor(x.reshape(100,1))\n",
        "y_model = model(x_model)\n",
        "y = y_model.detach().np().reshape(1,100)[0] # プロット用に変換、detach()が必要\n",
        "\n",
        "plt.plot(x, y, label='model')\n",
        "plt.legend()\n",
        "plt.xlabel('x')\n",
        "plt.ylabel('y')\n",
        "plt.show()"
      ],
      "execution_count": 36,
      "outputs": [
        {
          "output_type": "display_data",
          "data": {
            "image/png": "[encoded data removed]",
            "text/plain": [
              "<Figure size 432x288 with 1 Axes>"
            ]
          },
          "metadata": {
            "tags": [],
            "needs_background": "light"
          }
        }
      ]
    },
    {
      "cell_type": "code",
      "metadata": {
        "id": "qTwRDxfwvUfv"
      },
      "source": [
        ""
      ],
      "execution_count": 32,
      "outputs": []
    }
  ]
}